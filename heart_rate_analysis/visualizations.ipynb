{
 "cells": [
  {
   "cell_type": "code",
   "execution_count": 66,
   "metadata": {},
   "outputs": [],
   "source": [
    "import pandas as pd\n",
    "import seaborn as sns\n",
    "import matplotlib.pyplot as plt"
   ]
  },
  {
   "cell_type": "code",
   "execution_count": 67,
   "metadata": {},
   "outputs": [],
   "source": [
    "df = pd.read_csv('C:/AMEYA/UW/Academics/DATA 515/Project/FitMe/heart_rate_analysis/data/daily_values.csv')"
   ]
  },
  {
   "cell_type": "code",
   "execution_count": 68,
   "metadata": {},
   "outputs": [
    {
     "data": {
      "text/html": [
       "<div>\n",
       "<style scoped>\n",
       "    .dataframe tbody tr th:only-of-type {\n",
       "        vertical-align: middle;\n",
       "    }\n",
       "\n",
       "    .dataframe tbody tr th {\n",
       "        vertical-align: top;\n",
       "    }\n",
       "\n",
       "    .dataframe thead th {\n",
       "        text-align: right;\n",
       "    }\n",
       "</style>\n",
       "<table border=\"1\" class=\"dataframe\">\n",
       "  <thead>\n",
       "    <tr style=\"text-align: right;\">\n",
       "      <th></th>\n",
       "      <th>Id</th>\n",
       "      <th>date_time</th>\n",
       "      <th>Value</th>\n",
       "      <th>ActivityDay_x</th>\n",
       "      <th>StepTotal</th>\n",
       "      <th>ActivityDay_y</th>\n",
       "      <th>Calories_x</th>\n",
       "      <th>ActivityDay</th>\n",
       "      <th>SedentaryMinutes_x</th>\n",
       "      <th>LightlyActiveMinutes_x</th>\n",
       "      <th>...</th>\n",
       "      <th>SedentaryActiveDistance_y</th>\n",
       "      <th>VeryActiveMinutes_y</th>\n",
       "      <th>FairlyActiveMinutes_y</th>\n",
       "      <th>LightlyActiveMinutes_y</th>\n",
       "      <th>SedentaryMinutes_y</th>\n",
       "      <th>Calories_y</th>\n",
       "      <th>SleepDay</th>\n",
       "      <th>TotalSleepRecords</th>\n",
       "      <th>TotalMinutesAsleep</th>\n",
       "      <th>TotalTimeInBed</th>\n",
       "    </tr>\n",
       "  </thead>\n",
       "  <tbody>\n",
       "    <tr>\n",
       "      <th>0</th>\n",
       "      <td>2022484408</td>\n",
       "      <td>2016-04-12</td>\n",
       "      <td>75.457695</td>\n",
       "      <td>4/12/2016</td>\n",
       "      <td>11875.0</td>\n",
       "      <td>4/12/2016</td>\n",
       "      <td>2390.0</td>\n",
       "      <td>4/12/2016</td>\n",
       "      <td>1157.0</td>\n",
       "      <td>227.0</td>\n",
       "      <td>...</td>\n",
       "      <td>0.0</td>\n",
       "      <td>42.0</td>\n",
       "      <td>14.0</td>\n",
       "      <td>227.0</td>\n",
       "      <td>1157.0</td>\n",
       "      <td>2390.0</td>\n",
       "      <td>NaN</td>\n",
       "      <td>NaN</td>\n",
       "      <td>NaN</td>\n",
       "      <td>NaN</td>\n",
       "    </tr>\n",
       "    <tr>\n",
       "      <th>1</th>\n",
       "      <td>2022484408</td>\n",
       "      <td>2016-04-13</td>\n",
       "      <td>80.779593</td>\n",
       "      <td>4/13/2016</td>\n",
       "      <td>12024.0</td>\n",
       "      <td>4/13/2016</td>\n",
       "      <td>2601.0</td>\n",
       "      <td>4/13/2016</td>\n",
       "      <td>1100.0</td>\n",
       "      <td>292.0</td>\n",
       "      <td>...</td>\n",
       "      <td>0.0</td>\n",
       "      <td>43.0</td>\n",
       "      <td>5.0</td>\n",
       "      <td>292.0</td>\n",
       "      <td>1100.0</td>\n",
       "      <td>2601.0</td>\n",
       "      <td>NaN</td>\n",
       "      <td>NaN</td>\n",
       "      <td>NaN</td>\n",
       "      <td>NaN</td>\n",
       "    </tr>\n",
       "    <tr>\n",
       "      <th>2</th>\n",
       "      <td>2022484408</td>\n",
       "      <td>2016-04-14</td>\n",
       "      <td>72.628597</td>\n",
       "      <td>4/14/2016</td>\n",
       "      <td>10690.0</td>\n",
       "      <td>4/14/2016</td>\n",
       "      <td>2312.0</td>\n",
       "      <td>4/14/2016</td>\n",
       "      <td>1148.0</td>\n",
       "      <td>257.0</td>\n",
       "      <td>...</td>\n",
       "      <td>0.0</td>\n",
       "      <td>32.0</td>\n",
       "      <td>3.0</td>\n",
       "      <td>257.0</td>\n",
       "      <td>1148.0</td>\n",
       "      <td>2312.0</td>\n",
       "      <td>NaN</td>\n",
       "      <td>NaN</td>\n",
       "      <td>NaN</td>\n",
       "      <td>NaN</td>\n",
       "    </tr>\n",
       "    <tr>\n",
       "      <th>3</th>\n",
       "      <td>2022484408</td>\n",
       "      <td>2016-04-15</td>\n",
       "      <td>80.437382</td>\n",
       "      <td>4/15/2016</td>\n",
       "      <td>11034.0</td>\n",
       "      <td>4/15/2016</td>\n",
       "      <td>2525.0</td>\n",
       "      <td>4/15/2016</td>\n",
       "      <td>1122.0</td>\n",
       "      <td>282.0</td>\n",
       "      <td>...</td>\n",
       "      <td>0.0</td>\n",
       "      <td>27.0</td>\n",
       "      <td>9.0</td>\n",
       "      <td>282.0</td>\n",
       "      <td>1122.0</td>\n",
       "      <td>2525.0</td>\n",
       "      <td>NaN</td>\n",
       "      <td>NaN</td>\n",
       "      <td>NaN</td>\n",
       "      <td>NaN</td>\n",
       "    </tr>\n",
       "    <tr>\n",
       "      <th>4</th>\n",
       "      <td>2022484408</td>\n",
       "      <td>2016-04-16</td>\n",
       "      <td>75.960547</td>\n",
       "      <td>4/16/2016</td>\n",
       "      <td>10100.0</td>\n",
       "      <td>4/16/2016</td>\n",
       "      <td>2177.0</td>\n",
       "      <td>4/16/2016</td>\n",
       "      <td>1237.0</td>\n",
       "      <td>151.0</td>\n",
       "      <td>...</td>\n",
       "      <td>0.0</td>\n",
       "      <td>41.0</td>\n",
       "      <td>11.0</td>\n",
       "      <td>151.0</td>\n",
       "      <td>1237.0</td>\n",
       "      <td>2177.0</td>\n",
       "      <td>NaN</td>\n",
       "      <td>NaN</td>\n",
       "      <td>NaN</td>\n",
       "      <td>NaN</td>\n",
       "    </tr>\n",
       "  </tbody>\n",
       "</table>\n",
       "<p>5 rows × 34 columns</p>\n",
       "</div>"
      ],
      "text/plain": [
       "           Id   date_time      Value ActivityDay_x  StepTotal ActivityDay_y  \\\n",
       "0  2022484408  2016-04-12  75.457695     4/12/2016    11875.0     4/12/2016   \n",
       "1  2022484408  2016-04-13  80.779593     4/13/2016    12024.0     4/13/2016   \n",
       "2  2022484408  2016-04-14  72.628597     4/14/2016    10690.0     4/14/2016   \n",
       "3  2022484408  2016-04-15  80.437382     4/15/2016    11034.0     4/15/2016   \n",
       "4  2022484408  2016-04-16  75.960547     4/16/2016    10100.0     4/16/2016   \n",
       "\n",
       "   Calories_x ActivityDay  SedentaryMinutes_x  LightlyActiveMinutes_x  ...  \\\n",
       "0      2390.0   4/12/2016              1157.0                   227.0  ...   \n",
       "1      2601.0   4/13/2016              1100.0                   292.0  ...   \n",
       "2      2312.0   4/14/2016              1148.0                   257.0  ...   \n",
       "3      2525.0   4/15/2016              1122.0                   282.0  ...   \n",
       "4      2177.0   4/16/2016              1237.0                   151.0  ...   \n",
       "\n",
       "   SedentaryActiveDistance_y  VeryActiveMinutes_y  FairlyActiveMinutes_y  \\\n",
       "0                        0.0                 42.0                   14.0   \n",
       "1                        0.0                 43.0                    5.0   \n",
       "2                        0.0                 32.0                    3.0   \n",
       "3                        0.0                 27.0                    9.0   \n",
       "4                        0.0                 41.0                   11.0   \n",
       "\n",
       "   LightlyActiveMinutes_y  SedentaryMinutes_y  Calories_y SleepDay  \\\n",
       "0                   227.0              1157.0      2390.0      NaN   \n",
       "1                   292.0              1100.0      2601.0      NaN   \n",
       "2                   257.0              1148.0      2312.0      NaN   \n",
       "3                   282.0              1122.0      2525.0      NaN   \n",
       "4                   151.0              1237.0      2177.0      NaN   \n",
       "\n",
       "   TotalSleepRecords  TotalMinutesAsleep  TotalTimeInBed  \n",
       "0                NaN                 NaN             NaN  \n",
       "1                NaN                 NaN             NaN  \n",
       "2                NaN                 NaN             NaN  \n",
       "3                NaN                 NaN             NaN  \n",
       "4                NaN                 NaN             NaN  \n",
       "\n",
       "[5 rows x 34 columns]"
      ]
     },
     "execution_count": 68,
     "metadata": {},
     "output_type": "execute_result"
    }
   ],
   "source": [
    "df.head()"
   ]
  },
  {
   "cell_type": "code",
   "execution_count": 69,
   "metadata": {},
   "outputs": [
    {
     "data": {
      "text/html": [
       "<div>\n",
       "<style scoped>\n",
       "    .dataframe tbody tr th:only-of-type {\n",
       "        vertical-align: middle;\n",
       "    }\n",
       "\n",
       "    .dataframe tbody tr th {\n",
       "        vertical-align: top;\n",
       "    }\n",
       "\n",
       "    .dataframe thead th {\n",
       "        text-align: right;\n",
       "    }\n",
       "</style>\n",
       "<table border=\"1\" class=\"dataframe\">\n",
       "  <thead>\n",
       "    <tr style=\"text-align: right;\">\n",
       "      <th></th>\n",
       "      <th>Id</th>\n",
       "      <th>Value</th>\n",
       "      <th>StepTotal</th>\n",
       "      <th>Calories_x</th>\n",
       "      <th>SedentaryMinutes_x</th>\n",
       "      <th>LightlyActiveMinutes_x</th>\n",
       "      <th>FairlyActiveMinutes_x</th>\n",
       "      <th>VeryActiveMinutes_x</th>\n",
       "      <th>SedentaryActiveDistance_x</th>\n",
       "      <th>LightActiveDistance_x</th>\n",
       "      <th>...</th>\n",
       "      <th>LightActiveDistance_y</th>\n",
       "      <th>SedentaryActiveDistance_y</th>\n",
       "      <th>VeryActiveMinutes_y</th>\n",
       "      <th>FairlyActiveMinutes_y</th>\n",
       "      <th>LightlyActiveMinutes_y</th>\n",
       "      <th>SedentaryMinutes_y</th>\n",
       "      <th>Calories_y</th>\n",
       "      <th>TotalSleepRecords</th>\n",
       "      <th>TotalMinutesAsleep</th>\n",
       "      <th>TotalTimeInBed</th>\n",
       "    </tr>\n",
       "  </thead>\n",
       "  <tbody>\n",
       "    <tr>\n",
       "      <th>count</th>\n",
       "      <td>3.970000e+02</td>\n",
       "      <td>348.000000</td>\n",
       "      <td>388.000000</td>\n",
       "      <td>388.000000</td>\n",
       "      <td>388.000000</td>\n",
       "      <td>388.000000</td>\n",
       "      <td>388.000000</td>\n",
       "      <td>388.000000</td>\n",
       "      <td>388.000000</td>\n",
       "      <td>388.000000</td>\n",
       "      <td>...</td>\n",
       "      <td>388.000000</td>\n",
       "      <td>388.000000</td>\n",
       "      <td>388.000000</td>\n",
       "      <td>388.000000</td>\n",
       "      <td>388.000000</td>\n",
       "      <td>388.000000</td>\n",
       "      <td>388.000000</td>\n",
       "      <td>198.000000</td>\n",
       "      <td>198.000000</td>\n",
       "      <td>198.000000</td>\n",
       "    </tr>\n",
       "    <tr>\n",
       "      <th>mean</th>\n",
       "      <td>5.411447e+09</td>\n",
       "      <td>78.506160</td>\n",
       "      <td>8359.368557</td>\n",
       "      <td>2429.845361</td>\n",
       "      <td>937.337629</td>\n",
       "      <td>212.157216</td>\n",
       "      <td>13.899485</td>\n",
       "      <td>25.378866</td>\n",
       "      <td>0.001443</td>\n",
       "      <td>3.755387</td>\n",
       "      <td>...</td>\n",
       "      <td>3.755387</td>\n",
       "      <td>0.001443</td>\n",
       "      <td>25.378866</td>\n",
       "      <td>13.899485</td>\n",
       "      <td>212.157216</td>\n",
       "      <td>937.337629</td>\n",
       "      <td>2429.845361</td>\n",
       "      <td>1.111111</td>\n",
       "      <td>434.146465</td>\n",
       "      <td>462.606061</td>\n",
       "    </tr>\n",
       "    <tr>\n",
       "      <th>std</th>\n",
       "      <td>2.121978e+09</td>\n",
       "      <td>10.935367</td>\n",
       "      <td>5431.447691</td>\n",
       "      <td>717.768633</td>\n",
       "      <td>299.321976</td>\n",
       "      <td>114.631388</td>\n",
       "      <td>16.339508</td>\n",
       "      <td>35.890708</td>\n",
       "      <td>0.009724</td>\n",
       "      <td>2.254167</td>\n",
       "      <td>...</td>\n",
       "      <td>2.254167</td>\n",
       "      <td>0.009724</td>\n",
       "      <td>35.890708</td>\n",
       "      <td>16.339508</td>\n",
       "      <td>114.631388</td>\n",
       "      <td>299.321976</td>\n",
       "      <td>717.768633</td>\n",
       "      <td>0.345791</td>\n",
       "      <td>115.046509</td>\n",
       "      <td>123.297817</td>\n",
       "    </tr>\n",
       "    <tr>\n",
       "      <th>min</th>\n",
       "      <td>2.022484e+09</td>\n",
       "      <td>56.964327</td>\n",
       "      <td>0.000000</td>\n",
       "      <td>741.000000</td>\n",
       "      <td>125.000000</td>\n",
       "      <td>0.000000</td>\n",
       "      <td>0.000000</td>\n",
       "      <td>0.000000</td>\n",
       "      <td>0.000000</td>\n",
       "      <td>0.000000</td>\n",
       "      <td>...</td>\n",
       "      <td>0.000000</td>\n",
       "      <td>0.000000</td>\n",
       "      <td>0.000000</td>\n",
       "      <td>0.000000</td>\n",
       "      <td>0.000000</td>\n",
       "      <td>125.000000</td>\n",
       "      <td>741.000000</td>\n",
       "      <td>1.000000</td>\n",
       "      <td>58.000000</td>\n",
       "      <td>61.000000</td>\n",
       "    </tr>\n",
       "    <tr>\n",
       "      <th>25%</th>\n",
       "      <td>4.020333e+09</td>\n",
       "      <td>70.191425</td>\n",
       "      <td>4450.000000</td>\n",
       "      <td>1927.500000</td>\n",
       "      <td>696.750000</td>\n",
       "      <td>143.750000</td>\n",
       "      <td>0.000000</td>\n",
       "      <td>0.000000</td>\n",
       "      <td>0.000000</td>\n",
       "      <td>2.242500</td>\n",
       "      <td>...</td>\n",
       "      <td>2.242500</td>\n",
       "      <td>0.000000</td>\n",
       "      <td>0.000000</td>\n",
       "      <td>0.000000</td>\n",
       "      <td>143.750000</td>\n",
       "      <td>696.750000</td>\n",
       "      <td>1927.500000</td>\n",
       "      <td>1.000000</td>\n",
       "      <td>393.250000</td>\n",
       "      <td>416.000000</td>\n",
       "    </tr>\n",
       "    <tr>\n",
       "      <th>50%</th>\n",
       "      <td>5.553957e+09</td>\n",
       "      <td>77.470970</td>\n",
       "      <td>8677.000000</td>\n",
       "      <td>2225.000000</td>\n",
       "      <td>955.500000</td>\n",
       "      <td>227.000000</td>\n",
       "      <td>9.000000</td>\n",
       "      <td>11.000000</td>\n",
       "      <td>0.000000</td>\n",
       "      <td>3.895000</td>\n",
       "      <td>...</td>\n",
       "      <td>3.895000</td>\n",
       "      <td>0.000000</td>\n",
       "      <td>11.000000</td>\n",
       "      <td>9.000000</td>\n",
       "      <td>227.000000</td>\n",
       "      <td>955.500000</td>\n",
       "      <td>2225.000000</td>\n",
       "      <td>1.000000</td>\n",
       "      <td>442.000000</td>\n",
       "      <td>473.000000</td>\n",
       "    </tr>\n",
       "    <tr>\n",
       "      <th>75%</th>\n",
       "      <td>6.962181e+09</td>\n",
       "      <td>84.902588</td>\n",
       "      <td>11599.750000</td>\n",
       "      <td>2870.000000</td>\n",
       "      <td>1142.250000</td>\n",
       "      <td>283.250000</td>\n",
       "      <td>22.250000</td>\n",
       "      <td>38.500000</td>\n",
       "      <td>0.000000</td>\n",
       "      <td>5.352500</td>\n",
       "      <td>...</td>\n",
       "      <td>5.352500</td>\n",
       "      <td>0.000000</td>\n",
       "      <td>38.500000</td>\n",
       "      <td>22.250000</td>\n",
       "      <td>283.250000</td>\n",
       "      <td>1142.250000</td>\n",
       "      <td>2870.000000</td>\n",
       "      <td>1.000000</td>\n",
       "      <td>503.750000</td>\n",
       "      <td>538.250000</td>\n",
       "    </tr>\n",
       "    <tr>\n",
       "      <th>max</th>\n",
       "      <td>8.877689e+09</td>\n",
       "      <td>111.631579</td>\n",
       "      <td>29326.000000</td>\n",
       "      <td>4900.000000</td>\n",
       "      <td>1440.000000</td>\n",
       "      <td>518.000000</td>\n",
       "      <td>113.000000</td>\n",
       "      <td>210.000000</td>\n",
       "      <td>0.110000</td>\n",
       "      <td>10.710000</td>\n",
       "      <td>...</td>\n",
       "      <td>10.710000</td>\n",
       "      <td>0.110000</td>\n",
       "      <td>210.000000</td>\n",
       "      <td>113.000000</td>\n",
       "      <td>518.000000</td>\n",
       "      <td>1440.000000</td>\n",
       "      <td>4900.000000</td>\n",
       "      <td>3.000000</td>\n",
       "      <td>775.000000</td>\n",
       "      <td>843.000000</td>\n",
       "    </tr>\n",
       "  </tbody>\n",
       "</table>\n",
       "<p>8 rows × 28 columns</p>\n",
       "</div>"
      ],
      "text/plain": [
       "                 Id       Value     StepTotal   Calories_x  \\\n",
       "count  3.970000e+02  348.000000    388.000000   388.000000   \n",
       "mean   5.411447e+09   78.506160   8359.368557  2429.845361   \n",
       "std    2.121978e+09   10.935367   5431.447691   717.768633   \n",
       "min    2.022484e+09   56.964327      0.000000   741.000000   \n",
       "25%    4.020333e+09   70.191425   4450.000000  1927.500000   \n",
       "50%    5.553957e+09   77.470970   8677.000000  2225.000000   \n",
       "75%    6.962181e+09   84.902588  11599.750000  2870.000000   \n",
       "max    8.877689e+09  111.631579  29326.000000  4900.000000   \n",
       "\n",
       "       SedentaryMinutes_x  LightlyActiveMinutes_x  FairlyActiveMinutes_x  \\\n",
       "count          388.000000              388.000000             388.000000   \n",
       "mean           937.337629              212.157216              13.899485   \n",
       "std            299.321976              114.631388              16.339508   \n",
       "min            125.000000                0.000000               0.000000   \n",
       "25%            696.750000              143.750000               0.000000   \n",
       "50%            955.500000              227.000000               9.000000   \n",
       "75%           1142.250000              283.250000              22.250000   \n",
       "max           1440.000000              518.000000             113.000000   \n",
       "\n",
       "       VeryActiveMinutes_x  SedentaryActiveDistance_x  LightActiveDistance_x  \\\n",
       "count           388.000000                 388.000000             388.000000   \n",
       "mean             25.378866                   0.001443               3.755387   \n",
       "std              35.890708                   0.009724               2.254167   \n",
       "min               0.000000                   0.000000               0.000000   \n",
       "25%               0.000000                   0.000000               2.242500   \n",
       "50%              11.000000                   0.000000               3.895000   \n",
       "75%              38.500000                   0.000000               5.352500   \n",
       "max             210.000000                   0.110000              10.710000   \n",
       "\n",
       "       ...  LightActiveDistance_y  SedentaryActiveDistance_y  \\\n",
       "count  ...             388.000000                 388.000000   \n",
       "mean   ...               3.755387                   0.001443   \n",
       "std    ...               2.254167                   0.009724   \n",
       "min    ...               0.000000                   0.000000   \n",
       "25%    ...               2.242500                   0.000000   \n",
       "50%    ...               3.895000                   0.000000   \n",
       "75%    ...               5.352500                   0.000000   \n",
       "max    ...              10.710000                   0.110000   \n",
       "\n",
       "       VeryActiveMinutes_y  FairlyActiveMinutes_y  LightlyActiveMinutes_y  \\\n",
       "count           388.000000             388.000000              388.000000   \n",
       "mean             25.378866              13.899485              212.157216   \n",
       "std              35.890708              16.339508              114.631388   \n",
       "min               0.000000               0.000000                0.000000   \n",
       "25%               0.000000               0.000000              143.750000   \n",
       "50%              11.000000               9.000000              227.000000   \n",
       "75%              38.500000              22.250000              283.250000   \n",
       "max             210.000000             113.000000              518.000000   \n",
       "\n",
       "       SedentaryMinutes_y   Calories_y  TotalSleepRecords  TotalMinutesAsleep  \\\n",
       "count          388.000000   388.000000         198.000000          198.000000   \n",
       "mean           937.337629  2429.845361           1.111111          434.146465   \n",
       "std            299.321976   717.768633           0.345791          115.046509   \n",
       "min            125.000000   741.000000           1.000000           58.000000   \n",
       "25%            696.750000  1927.500000           1.000000          393.250000   \n",
       "50%            955.500000  2225.000000           1.000000          442.000000   \n",
       "75%           1142.250000  2870.000000           1.000000          503.750000   \n",
       "max           1440.000000  4900.000000           3.000000          775.000000   \n",
       "\n",
       "       TotalTimeInBed  \n",
       "count      198.000000  \n",
       "mean       462.606061  \n",
       "std        123.297817  \n",
       "min         61.000000  \n",
       "25%        416.000000  \n",
       "50%        473.000000  \n",
       "75%        538.250000  \n",
       "max        843.000000  \n",
       "\n",
       "[8 rows x 28 columns]"
      ]
     },
     "execution_count": 69,
     "metadata": {},
     "output_type": "execute_result"
    }
   ],
   "source": [
    "df.describe()"
   ]
  },
  {
   "cell_type": "code",
   "execution_count": 70,
   "metadata": {},
   "outputs": [
    {
     "data": {
      "text/plain": [
       "(397, 34)"
      ]
     },
     "execution_count": 70,
     "metadata": {},
     "output_type": "execute_result"
    }
   ],
   "source": [
    "df.shape"
   ]
  },
  {
   "cell_type": "code",
   "execution_count": 83,
   "metadata": {},
   "outputs": [],
   "source": [
    "df['date_time'] = pd.to_datetime(df['date_time'], format = '%Y/%m/%d')"
   ]
  },
  {
   "cell_type": "code",
   "execution_count": 84,
   "metadata": {},
   "outputs": [],
   "source": [
    "df['day_of_week'] = df['date_time'].dt.day_name()"
   ]
  },
  {
   "cell_type": "code",
   "execution_count": 100,
   "metadata": {},
   "outputs": [
    {
     "data": {
      "text/plain": [
       "[]"
      ]
     },
     "execution_count": 100,
     "metadata": {},
     "output_type": "execute_result"
    },
    {
     "data": {
      "image/png": "[encoded data removed]",
      "text/plain": [
       "<Figure size 432x288 with 1 Axes>"
      ]
     },
     "metadata": {
      "needs_background": "light"
     },
     "output_type": "display_data"
    }
   ],
   "source": [
    "ax = sns.lineplot(\n",
    "    x = 'day_of_week',\n",
    "    y = 'Value', \n",
    "    data = df,\n",
    "    palette = 'bright',)\n",
    "#hue = 'VeryActiveMinutes_x')\n",
    "#ax.set(xticklabels=[])\n",
    "ax.set(xlabel = 'Day of the week')\n",
    "ax.plot()"
   ]
  },
  {
   "cell_type": "code",
   "execution_count": 99,
   "metadata": {},
   "outputs": [
    {
     "data": {
      "text/plain": [
       "[]"
      ]
     },
     "execution_count": 99,
     "metadata": {},
     "output_type": "execute_result"
    },
    {
     "data": {
      "image/png": "[encoded data removed]",
      "text/plain": [
       "<Figure size 432x288 with 1 Axes>"
      ]
     },
     "metadata": {
      "needs_background": "light"
     },
     "output_type": "display_data"
    }
   ],
   "source": [
    "ax = sns.lineplot(\n",
    "    x = 'date_time',\n",
    "    y = 'Value', \n",
    "    data = df,\n",
    "    palette = 'bright',)\n",
    "#hue = 'VeryActiveMinutes_x')\n",
    "#ax.set(xticklabels=[])\n",
    "ax.set(xlabel = 'Date')\n",
    "ax.set_xticklabels(labels = df['date_time'], size = 6, rotation = 30)\n",
    "ax.plot()"
   ]
  },
  {
   "cell_type": "code",
   "execution_count": 78,
   "metadata": {},
   "outputs": [
    {
     "data": {
      "text/plain": [
       "Text(0, 0.5, 'Distribution')"
      ]
     },
     "execution_count": 78,
     "metadata": {},
     "output_type": "execute_result"
    },
    {
     "data": {
      "image/png": "[encoded data removed]",
      "text/plain": [
       "<Figure size 432x288 with 1 Axes>"
      ]
     },
     "metadata": {
      "needs_background": "light"
     },
     "output_type": "display_data"
    }
   ],
   "source": [
    "sns.kdeplot(df['Value'], shade = True, legend = False)\n",
    "plt.xlabel('BPM', fontsize = 16)\n",
    "plt.ylabel('Distribution', fontsize = 10)\n"
   ]
  },
  {
   "cell_type": "code",
   "execution_count": 73,
   "metadata": {},
   "outputs": [
    {
     "data": {
      "text/plain": [
       "count    198.000000\n",
       "mean     434.146465\n",
       "std      115.046509\n",
       "min       58.000000\n",
       "25%      393.250000\n",
       "50%      442.000000\n",
       "75%      503.750000\n",
       "max      775.000000\n",
       "Name: TotalMinutesAsleep, dtype: float64"
      ]
     },
     "execution_count": 73,
     "metadata": {},
     "output_type": "execute_result"
    }
   ],
   "source": [
    "df['TotalMinutesAsleep'].describe()"
   ]
  },
  {
   "cell_type": "code",
   "execution_count": 74,
   "metadata": {},
   "outputs": [],
   "source": [
    "df['Sleep Duration'] = pd.cut(x = df['TotalMinutesAsleep'], bins = [0, 393, 442, 503, 775], labels = ['Less', 'Okay', 'Enough', 'Healthy'])"
   ]
  },
  {
   "cell_type": "code",
   "execution_count": 75,
   "metadata": {},
   "outputs": [
    {
     "data": {
      "text/plain": [
       "(array([0, 1, 2, 3]), <a list of 4 Text major ticklabel objects>)"
      ]
     },
     "execution_count": 75,
     "metadata": {},
     "output_type": "execute_result"
    },
    {
     "data": {
      "image/png": "[encoded data removed]",
      "text/plain": [
       "<Figure size 432x288 with 1 Axes>"
      ]
     },
     "metadata": {
      "needs_background": "light"
     },
     "output_type": "display_data"
    }
   ],
   "source": [
    "sns.boxplot(\n",
    "    x='Sleep Duration', \n",
    "    y='Value', \n",
    "    data=df, \n",
    "    color='blue')\n",
    "\n",
    "plt.xticks(rotation=45, \n",
    "           ha='right')"
   ]
  },
  {
   "cell_type": "code",
   "execution_count": null,
   "metadata": {},
   "outputs": [],
   "source": []
  }
 ],
 "metadata": {
  "kernelspec": {
   "display_name": "Python 3",
   "language": "python",
   "name": "python3"
  },
  "language_info": {
   "codemirror_mode": {
    "name": "ipython",
    "version": 3
   },
   "file_extension": ".py",
   "mimetype": "text/x-python",
   "name": "python",
   "nbconvert_exporter": "python",
   "pygments_lexer": "ipython3",
   "version": "3.8.2"
  },
  "orig_nbformat": 4,
  "vscode": {
   "interpreter": {
    "hash": "570feb405e2e27c949193ac68f46852414290d515b0ba6e5d90d076ed2284471"
   }
  }
 },
 "nbformat": 4,
 "nbformat_minor": 2
}
