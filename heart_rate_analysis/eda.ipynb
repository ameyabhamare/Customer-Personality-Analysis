{
 "cells": [
  {
   "cell_type": "code",
   "execution_count": 1,
   "metadata": {},
   "outputs": [],
   "source": [
    "import pandas as pd\n",
    "import seaborn as sns"
   ]
  },
  {
   "cell_type": "code",
   "execution_count": 2,
   "metadata": {},
   "outputs": [],
   "source": [
    "df = pd.read_csv('C:/AMEYA/UW/Academics/DATA 515/Project/FitMe/database/heartrate_seconds_merged.csv')"
   ]
  },
  {
   "cell_type": "code",
   "execution_count": 47,
   "metadata": {},
   "outputs": [
    {
     "data": {
      "text/html": [
       "<div>\n",
       "<style scoped>\n",
       "    .dataframe tbody tr th:only-of-type {\n",
       "        vertical-align: middle;\n",
       "    }\n",
       "\n",
       "    .dataframe tbody tr th {\n",
       "        vertical-align: top;\n",
       "    }\n",
       "\n",
       "    .dataframe thead th {\n",
       "        text-align: right;\n",
       "    }\n",
       "</style>\n",
       "<table border=\"1\" class=\"dataframe\">\n",
       "  <thead>\n",
       "    <tr style=\"text-align: right;\">\n",
       "      <th></th>\n",
       "      <th>Id</th>\n",
       "      <th>Time</th>\n",
       "      <th>Value</th>\n",
       "    </tr>\n",
       "  </thead>\n",
       "  <tbody>\n",
       "    <tr>\n",
       "      <th>0</th>\n",
       "      <td>2022484408</td>\n",
       "      <td>4/12/2016 7:21:00 AM</td>\n",
       "      <td>97</td>\n",
       "    </tr>\n",
       "    <tr>\n",
       "      <th>1</th>\n",
       "      <td>2022484408</td>\n",
       "      <td>4/12/2016 7:21:05 AM</td>\n",
       "      <td>102</td>\n",
       "    </tr>\n",
       "    <tr>\n",
       "      <th>2</th>\n",
       "      <td>2022484408</td>\n",
       "      <td>4/12/2016 7:21:10 AM</td>\n",
       "      <td>105</td>\n",
       "    </tr>\n",
       "    <tr>\n",
       "      <th>3</th>\n",
       "      <td>2022484408</td>\n",
       "      <td>4/12/2016 7:21:20 AM</td>\n",
       "      <td>103</td>\n",
       "    </tr>\n",
       "    <tr>\n",
       "      <th>4</th>\n",
       "      <td>2022484408</td>\n",
       "      <td>4/12/2016 7:21:25 AM</td>\n",
       "      <td>101</td>\n",
       "    </tr>\n",
       "  </tbody>\n",
       "</table>\n",
       "</div>"
      ],
      "text/plain": [
       "           Id                  Time  Value\n",
       "0  2022484408  4/12/2016 7:21:00 AM     97\n",
       "1  2022484408  4/12/2016 7:21:05 AM    102\n",
       "2  2022484408  4/12/2016 7:21:10 AM    105\n",
       "3  2022484408  4/12/2016 7:21:20 AM    103\n",
       "4  2022484408  4/12/2016 7:21:25 AM    101"
      ]
     },
     "execution_count": 47,
     "metadata": {},
     "output_type": "execute_result"
    }
   ],
   "source": [
    "df.head()"
   ]
  },
  {
   "cell_type": "code",
   "execution_count": 48,
   "metadata": {},
   "outputs": [],
   "source": [
    "df['Time'] = pd.to_datetime(df['Time'])"
   ]
  },
  {
   "cell_type": "code",
   "execution_count": 49,
   "metadata": {},
   "outputs": [],
   "source": [
    "df1 = df[df['Id'] == 2026352035]"
   ]
  },
  {
   "cell_type": "code",
   "execution_count": 50,
   "metadata": {},
   "outputs": [
    {
     "data": {
      "text/html": [
       "<div>\n",
       "<style scoped>\n",
       "    .dataframe tbody tr th:only-of-type {\n",
       "        vertical-align: middle;\n",
       "    }\n",
       "\n",
       "    .dataframe tbody tr th {\n",
       "        vertical-align: top;\n",
       "    }\n",
       "\n",
       "    .dataframe thead th {\n",
       "        text-align: right;\n",
       "    }\n",
       "</style>\n",
       "<table border=\"1\" class=\"dataframe\">\n",
       "  <thead>\n",
       "    <tr style=\"text-align: right;\">\n",
       "      <th></th>\n",
       "      <th>Id</th>\n",
       "      <th>Time</th>\n",
       "      <th>Value</th>\n",
       "    </tr>\n",
       "  </thead>\n",
       "  <tbody>\n",
       "    <tr>\n",
       "      <th>154104</th>\n",
       "      <td>2026352035</td>\n",
       "      <td>2016-04-17 05:30:20</td>\n",
       "      <td>70</td>\n",
       "    </tr>\n",
       "    <tr>\n",
       "      <th>154105</th>\n",
       "      <td>2026352035</td>\n",
       "      <td>2016-04-17 05:30:30</td>\n",
       "      <td>66</td>\n",
       "    </tr>\n",
       "  </tbody>\n",
       "</table>\n",
       "</div>"
      ],
      "text/plain": [
       "                Id                Time  Value\n",
       "154104  2026352035 2016-04-17 05:30:20     70\n",
       "154105  2026352035 2016-04-17 05:30:30     66"
      ]
     },
     "execution_count": 50,
     "metadata": {},
     "output_type": "execute_result"
    }
   ],
   "source": [
    "df1.head(2)"
   ]
  },
  {
   "cell_type": "code",
   "execution_count": 55,
   "metadata": {},
   "outputs": [
    {
     "data": {
      "text/plain": [
       "Time\n",
       "2016-04-17    68.656250\n",
       "2016-04-18          NaN\n",
       "2016-04-19          NaN\n",
       "2016-04-20          NaN\n",
       "2016-04-21          NaN\n",
       "2016-04-22          NaN\n",
       "2016-04-23          NaN\n",
       "2016-04-24          NaN\n",
       "2016-04-25    99.505814\n",
       "2016-04-26          NaN\n",
       "2016-04-27          NaN\n",
       "2016-04-28          NaN\n",
       "2016-04-29          NaN\n",
       "2016-04-30          NaN\n",
       "2016-05-01          NaN\n",
       "2016-05-02    84.134571\n",
       "2016-05-03          NaN\n",
       "2016-05-04          NaN\n",
       "2016-05-05          NaN\n",
       "2016-05-06          NaN\n",
       "2016-05-07          NaN\n",
       "2016-05-08          NaN\n",
       "2016-05-09    98.233901\n",
       "Freq: D, Name: Value, dtype: float64"
      ]
     },
     "execution_count": 55,
     "metadata": {},
     "output_type": "execute_result"
    }
   ],
   "source": [
    "df1.set_index('Time')['Value'].resample('D').mean()"
   ]
  },
  {
   "cell_type": "code",
   "execution_count": 59,
   "metadata": {},
   "outputs": [
    {
     "name": "stderr",
     "output_type": "stream",
     "text": [
      "<ipython-input-59-7324d4e2a370>:1: SettingWithCopyWarning: \n",
      "A value is trying to be set on a copy of a slice from a DataFrame.\n",
      "Try using .loc[row_indexer,col_indexer] = value instead\n",
      "\n",
      "See the caveats in the documentation: https://pandas.pydata.org/pandas-docs/stable/user_guide/indexing.html#returning-a-view-versus-a-copy\n",
      "  df1['Daily aggregate'] = df1.resample('D', on = 'Time')['Value'].transform('mean')\n"
     ]
    }
   ],
   "source": [
    "df1['Daily aggregate'] = df1.resample('D', on = 'Time')['Value'].transform('mean')"
   ]
  },
  {
   "cell_type": "code",
   "execution_count": 60,
   "metadata": {},
   "outputs": [
    {
     "data": {
      "text/plain": [
       "(2490, 4)"
      ]
     },
     "execution_count": 60,
     "metadata": {},
     "output_type": "execute_result"
    }
   ],
   "source": [
    "df1.shape"
   ]
  },
  {
   "cell_type": "code",
   "execution_count": 61,
   "metadata": {},
   "outputs": [
    {
     "data": {
      "text/html": [
       "<div>\n",
       "<style scoped>\n",
       "    .dataframe tbody tr th:only-of-type {\n",
       "        vertical-align: middle;\n",
       "    }\n",
       "\n",
       "    .dataframe tbody tr th {\n",
       "        vertical-align: top;\n",
       "    }\n",
       "\n",
       "    .dataframe thead th {\n",
       "        text-align: right;\n",
       "    }\n",
       "</style>\n",
       "<table border=\"1\" class=\"dataframe\">\n",
       "  <thead>\n",
       "    <tr style=\"text-align: right;\">\n",
       "      <th></th>\n",
       "      <th>Id</th>\n",
       "      <th>Time</th>\n",
       "      <th>Value</th>\n",
       "      <th>Daily aggregate</th>\n",
       "    </tr>\n",
       "  </thead>\n",
       "  <tbody>\n",
       "    <tr>\n",
       "      <th>154104</th>\n",
       "      <td>2026352035</td>\n",
       "      <td>2016-04-17 05:30:20</td>\n",
       "      <td>70</td>\n",
       "      <td>68.65625</td>\n",
       "    </tr>\n",
       "    <tr>\n",
       "      <th>154105</th>\n",
       "      <td>2026352035</td>\n",
       "      <td>2016-04-17 05:30:30</td>\n",
       "      <td>66</td>\n",
       "      <td>68.65625</td>\n",
       "    </tr>\n",
       "    <tr>\n",
       "      <th>154106</th>\n",
       "      <td>2026352035</td>\n",
       "      <td>2016-04-17 05:30:40</td>\n",
       "      <td>67</td>\n",
       "      <td>68.65625</td>\n",
       "    </tr>\n",
       "    <tr>\n",
       "      <th>154107</th>\n",
       "      <td>2026352035</td>\n",
       "      <td>2016-04-17 05:30:55</td>\n",
       "      <td>67</td>\n",
       "      <td>68.65625</td>\n",
       "    </tr>\n",
       "    <tr>\n",
       "      <th>154108</th>\n",
       "      <td>2026352035</td>\n",
       "      <td>2016-04-17 05:31:10</td>\n",
       "      <td>67</td>\n",
       "      <td>68.65625</td>\n",
       "    </tr>\n",
       "  </tbody>\n",
       "</table>\n",
       "</div>"
      ],
      "text/plain": [
       "                Id                Time  Value  Daily aggregate\n",
       "154104  2026352035 2016-04-17 05:30:20     70         68.65625\n",
       "154105  2026352035 2016-04-17 05:30:30     66         68.65625\n",
       "154106  2026352035 2016-04-17 05:30:40     67         68.65625\n",
       "154107  2026352035 2016-04-17 05:30:55     67         68.65625\n",
       "154108  2026352035 2016-04-17 05:31:10     67         68.65625"
      ]
     },
     "execution_count": 61,
     "metadata": {},
     "output_type": "execute_result"
    }
   ],
   "source": [
    "df1.head()"
   ]
  },
  {
   "cell_type": "code",
   "execution_count": 8,
   "metadata": {},
   "outputs": [
    {
     "name": "stderr",
     "output_type": "stream",
     "text": [
      "<ipython-input-8-fda1a635cfd0>:2: SettingWithCopyWarning: \n",
      "A value is trying to be set on a copy of a slice from a DataFrame.\n",
      "Try using .loc[row_indexer,col_indexer] = value instead\n",
      "\n",
      "See the caveats in the documentation: https://pandas.pydata.org/pandas-docs/stable/user_guide/indexing.html#returning-a-view-versus-a-copy\n",
      "  df1['Day'] = days\n"
     ]
    }
   ],
   "source": [
    "days = pd.to_datetime(df1['Time']).dt.weekday\n",
    "df1['Day'] = days "
   ]
  },
  {
   "cell_type": "code",
   "execution_count": 9,
   "metadata": {},
   "outputs": [
    {
     "data": {
      "text/html": [
       "<div>\n",
       "<style scoped>\n",
       "    .dataframe tbody tr th:only-of-type {\n",
       "        vertical-align: middle;\n",
       "    }\n",
       "\n",
       "    .dataframe tbody tr th {\n",
       "        vertical-align: top;\n",
       "    }\n",
       "\n",
       "    .dataframe thead th {\n",
       "        text-align: right;\n",
       "    }\n",
       "</style>\n",
       "<table border=\"1\" class=\"dataframe\">\n",
       "  <thead>\n",
       "    <tr style=\"text-align: right;\">\n",
       "      <th></th>\n",
       "      <th>Id</th>\n",
       "      <th>Time</th>\n",
       "      <th>Value</th>\n",
       "      <th>Day</th>\n",
       "    </tr>\n",
       "  </thead>\n",
       "  <tbody>\n",
       "    <tr>\n",
       "      <th>154104</th>\n",
       "      <td>2026352035</td>\n",
       "      <td>2016-04-17 05:30:20</td>\n",
       "      <td>70</td>\n",
       "      <td>6</td>\n",
       "    </tr>\n",
       "    <tr>\n",
       "      <th>154105</th>\n",
       "      <td>2026352035</td>\n",
       "      <td>2016-04-17 05:30:30</td>\n",
       "      <td>66</td>\n",
       "      <td>6</td>\n",
       "    </tr>\n",
       "    <tr>\n",
       "      <th>154106</th>\n",
       "      <td>2026352035</td>\n",
       "      <td>2016-04-17 05:30:40</td>\n",
       "      <td>67</td>\n",
       "      <td>6</td>\n",
       "    </tr>\n",
       "    <tr>\n",
       "      <th>154107</th>\n",
       "      <td>2026352035</td>\n",
       "      <td>2016-04-17 05:30:55</td>\n",
       "      <td>67</td>\n",
       "      <td>6</td>\n",
       "    </tr>\n",
       "    <tr>\n",
       "      <th>154108</th>\n",
       "      <td>2026352035</td>\n",
       "      <td>2016-04-17 05:31:10</td>\n",
       "      <td>67</td>\n",
       "      <td>6</td>\n",
       "    </tr>\n",
       "  </tbody>\n",
       "</table>\n",
       "</div>"
      ],
      "text/plain": [
       "                Id                Time  Value  Day\n",
       "154104  2026352035 2016-04-17 05:30:20     70    6\n",
       "154105  2026352035 2016-04-17 05:30:30     66    6\n",
       "154106  2026352035 2016-04-17 05:30:40     67    6\n",
       "154107  2026352035 2016-04-17 05:30:55     67    6\n",
       "154108  2026352035 2016-04-17 05:31:10     67    6"
      ]
     },
     "execution_count": 9,
     "metadata": {},
     "output_type": "execute_result"
    }
   ],
   "source": [
    "df1.head()"
   ]
  },
  {
   "cell_type": "code",
   "execution_count": 10,
   "metadata": {},
   "outputs": [],
   "source": [
    "dayvsvalue = df1.groupby('Day').Value.mean()"
   ]
  },
  {
   "cell_type": "code",
   "execution_count": 11,
   "metadata": {},
   "outputs": [
    {
     "data": {
      "text/plain": [
       "<matplotlib.axes._subplots.AxesSubplot at 0x29f39cde400>"
      ]
     },
     "execution_count": 11,
     "metadata": {},
     "output_type": "execute_result"
    },
    {
     "data": {
      "image/png": "[encoded data removed]",
      "text/plain": [
       "<Figure size 432x288 with 1 Axes>"
      ]
     },
     "metadata": {
      "needs_background": "light"
     },
     "output_type": "display_data"
    }
   ],
   "source": [
    "dayvsvalue.plot()"
   ]
  },
  {
   "cell_type": "code",
   "execution_count": 12,
   "metadata": {},
   "outputs": [],
   "source": [
    "sleep = pd.read_csv('C:/AMEYA/UW/Academics/DATA 515/Project/FitMe/database/sleepDay_merged.csv')"
   ]
  },
  {
   "cell_type": "code",
   "execution_count": 13,
   "metadata": {},
   "outputs": [],
   "source": [
    "# set(list(sleep['Id'].unique())).intersection(list(df['Id'].unique()))"
   ]
  },
  {
   "cell_type": "code",
   "execution_count": 14,
   "metadata": {},
   "outputs": [],
   "source": [
    "sleep.rename(columns = {'SleepDay': 'Time'}, inplace = True)"
   ]
  },
  {
   "cell_type": "code",
   "execution_count": 15,
   "metadata": {},
   "outputs": [
    {
     "data": {
      "text/html": [
       "<div>\n",
       "<style scoped>\n",
       "    .dataframe tbody tr th:only-of-type {\n",
       "        vertical-align: middle;\n",
       "    }\n",
       "\n",
       "    .dataframe tbody tr th {\n",
       "        vertical-align: top;\n",
       "    }\n",
       "\n",
       "    .dataframe thead th {\n",
       "        text-align: right;\n",
       "    }\n",
       "</style>\n",
       "<table border=\"1\" class=\"dataframe\">\n",
       "  <thead>\n",
       "    <tr style=\"text-align: right;\">\n",
       "      <th></th>\n",
       "      <th>Id</th>\n",
       "      <th>Time</th>\n",
       "      <th>TotalSleepRecords</th>\n",
       "      <th>TotalMinutesAsleep</th>\n",
       "      <th>TotalTimeInBed</th>\n",
       "    </tr>\n",
       "  </thead>\n",
       "  <tbody>\n",
       "    <tr>\n",
       "      <th>0</th>\n",
       "      <td>1503960366</td>\n",
       "      <td>4/12/2016 12:00:00 AM</td>\n",
       "      <td>1</td>\n",
       "      <td>327</td>\n",
       "      <td>346</td>\n",
       "    </tr>\n",
       "    <tr>\n",
       "      <th>1</th>\n",
       "      <td>1503960366</td>\n",
       "      <td>4/13/2016 12:00:00 AM</td>\n",
       "      <td>2</td>\n",
       "      <td>384</td>\n",
       "      <td>407</td>\n",
       "    </tr>\n",
       "  </tbody>\n",
       "</table>\n",
       "</div>"
      ],
      "text/plain": [
       "           Id                   Time  TotalSleepRecords  TotalMinutesAsleep  \\\n",
       "0  1503960366  4/12/2016 12:00:00 AM                  1                 327   \n",
       "1  1503960366  4/13/2016 12:00:00 AM                  2                 384   \n",
       "\n",
       "   TotalTimeInBed  \n",
       "0             346  \n",
       "1             407  "
      ]
     },
     "execution_count": 15,
     "metadata": {},
     "output_type": "execute_result"
    }
   ],
   "source": [
    "sleep.head(2)"
   ]
  },
  {
   "cell_type": "code",
   "execution_count": 16,
   "metadata": {},
   "outputs": [],
   "source": [
    "sleep['Time'] = sleep['Time'].str.rstrip(' AM')"
   ]
  },
  {
   "cell_type": "code",
   "execution_count": 17,
   "metadata": {},
   "outputs": [
    {
     "data": {
      "text/html": [
       "<div>\n",
       "<style scoped>\n",
       "    .dataframe tbody tr th:only-of-type {\n",
       "        vertical-align: middle;\n",
       "    }\n",
       "\n",
       "    .dataframe tbody tr th {\n",
       "        vertical-align: top;\n",
       "    }\n",
       "\n",
       "    .dataframe thead th {\n",
       "        text-align: right;\n",
       "    }\n",
       "</style>\n",
       "<table border=\"1\" class=\"dataframe\">\n",
       "  <thead>\n",
       "    <tr style=\"text-align: right;\">\n",
       "      <th></th>\n",
       "      <th>Id</th>\n",
       "      <th>Time</th>\n",
       "      <th>TotalSleepRecords</th>\n",
       "      <th>TotalMinutesAsleep</th>\n",
       "      <th>TotalTimeInBed</th>\n",
       "    </tr>\n",
       "  </thead>\n",
       "  <tbody>\n",
       "    <tr>\n",
       "      <th>0</th>\n",
       "      <td>1503960366</td>\n",
       "      <td>4/12/2016 12:00:00</td>\n",
       "      <td>1</td>\n",
       "      <td>327</td>\n",
       "      <td>346</td>\n",
       "    </tr>\n",
       "    <tr>\n",
       "      <th>1</th>\n",
       "      <td>1503960366</td>\n",
       "      <td>4/13/2016 12:00:00</td>\n",
       "      <td>2</td>\n",
       "      <td>384</td>\n",
       "      <td>407</td>\n",
       "    </tr>\n",
       "  </tbody>\n",
       "</table>\n",
       "</div>"
      ],
      "text/plain": [
       "           Id                Time  TotalSleepRecords  TotalMinutesAsleep  \\\n",
       "0  1503960366  4/12/2016 12:00:00                  1                 327   \n",
       "1  1503960366  4/13/2016 12:00:00                  2                 384   \n",
       "\n",
       "   TotalTimeInBed  \n",
       "0             346  \n",
       "1             407  "
      ]
     },
     "execution_count": 17,
     "metadata": {},
     "output_type": "execute_result"
    }
   ],
   "source": [
    "sleep.head(2)"
   ]
  },
  {
   "cell_type": "code",
   "execution_count": 18,
   "metadata": {},
   "outputs": [],
   "source": [
    "sleep['Time'] = pd.to_datetime(sleep['Time'], format='%m/%d/%Y %H:%M:%S')"
   ]
  },
  {
   "cell_type": "code",
   "execution_count": 19,
   "metadata": {},
   "outputs": [
    {
     "data": {
      "text/html": [
       "<div>\n",
       "<style scoped>\n",
       "    .dataframe tbody tr th:only-of-type {\n",
       "        vertical-align: middle;\n",
       "    }\n",
       "\n",
       "    .dataframe tbody tr th {\n",
       "        vertical-align: top;\n",
       "    }\n",
       "\n",
       "    .dataframe thead th {\n",
       "        text-align: right;\n",
       "    }\n",
       "</style>\n",
       "<table border=\"1\" class=\"dataframe\">\n",
       "  <thead>\n",
       "    <tr style=\"text-align: right;\">\n",
       "      <th></th>\n",
       "      <th>Id</th>\n",
       "      <th>Time</th>\n",
       "      <th>TotalSleepRecords</th>\n",
       "      <th>TotalMinutesAsleep</th>\n",
       "      <th>TotalTimeInBed</th>\n",
       "    </tr>\n",
       "  </thead>\n",
       "  <tbody>\n",
       "    <tr>\n",
       "      <th>0</th>\n",
       "      <td>1503960366</td>\n",
       "      <td>2016-04-12 12:00:00</td>\n",
       "      <td>1</td>\n",
       "      <td>327</td>\n",
       "      <td>346</td>\n",
       "    </tr>\n",
       "    <tr>\n",
       "      <th>1</th>\n",
       "      <td>1503960366</td>\n",
       "      <td>2016-04-13 12:00:00</td>\n",
       "      <td>2</td>\n",
       "      <td>384</td>\n",
       "      <td>407</td>\n",
       "    </tr>\n",
       "  </tbody>\n",
       "</table>\n",
       "</div>"
      ],
      "text/plain": [
       "           Id                Time  TotalSleepRecords  TotalMinutesAsleep  \\\n",
       "0  1503960366 2016-04-12 12:00:00                  1                 327   \n",
       "1  1503960366 2016-04-13 12:00:00                  2                 384   \n",
       "\n",
       "   TotalTimeInBed  \n",
       "0             346  \n",
       "1             407  "
      ]
     },
     "execution_count": 19,
     "metadata": {},
     "output_type": "execute_result"
    }
   ],
   "source": [
    "sleep.head(2)"
   ]
  },
  {
   "cell_type": "code",
   "execution_count": 20,
   "metadata": {},
   "outputs": [],
   "source": [
    "sleep1 = sleep[sleep['Id'] == 2026352035]"
   ]
  },
  {
   "cell_type": "code",
   "execution_count": 21,
   "metadata": {},
   "outputs": [
    {
     "data": {
      "text/html": [
       "<div>\n",
       "<style scoped>\n",
       "    .dataframe tbody tr th:only-of-type {\n",
       "        vertical-align: middle;\n",
       "    }\n",
       "\n",
       "    .dataframe tbody tr th {\n",
       "        vertical-align: top;\n",
       "    }\n",
       "\n",
       "    .dataframe thead th {\n",
       "        text-align: right;\n",
       "    }\n",
       "</style>\n",
       "<table border=\"1\" class=\"dataframe\">\n",
       "  <thead>\n",
       "    <tr style=\"text-align: right;\">\n",
       "      <th></th>\n",
       "      <th>Id</th>\n",
       "      <th>Time_x</th>\n",
       "      <th>Value</th>\n",
       "      <th>Day</th>\n",
       "      <th>Time_y</th>\n",
       "      <th>TotalSleepRecords</th>\n",
       "      <th>TotalMinutesAsleep</th>\n",
       "      <th>TotalTimeInBed</th>\n",
       "    </tr>\n",
       "  </thead>\n",
       "  <tbody>\n",
       "    <tr>\n",
       "      <th>0</th>\n",
       "      <td>2026352035</td>\n",
       "      <td>2016-04-17 05:30:20</td>\n",
       "      <td>70</td>\n",
       "      <td>6</td>\n",
       "      <td>2016-04-12 12:00:00</td>\n",
       "      <td>1</td>\n",
       "      <td>503</td>\n",
       "      <td>546</td>\n",
       "    </tr>\n",
       "    <tr>\n",
       "      <th>1</th>\n",
       "      <td>2026352035</td>\n",
       "      <td>2016-04-17 05:30:20</td>\n",
       "      <td>70</td>\n",
       "      <td>6</td>\n",
       "      <td>2016-04-13 12:00:00</td>\n",
       "      <td>1</td>\n",
       "      <td>531</td>\n",
       "      <td>565</td>\n",
       "    </tr>\n",
       "    <tr>\n",
       "      <th>2</th>\n",
       "      <td>2026352035</td>\n",
       "      <td>2016-04-17 05:30:20</td>\n",
       "      <td>70</td>\n",
       "      <td>6</td>\n",
       "      <td>2016-04-14 12:00:00</td>\n",
       "      <td>1</td>\n",
       "      <td>545</td>\n",
       "      <td>568</td>\n",
       "    </tr>\n",
       "    <tr>\n",
       "      <th>3</th>\n",
       "      <td>2026352035</td>\n",
       "      <td>2016-04-17 05:30:20</td>\n",
       "      <td>70</td>\n",
       "      <td>6</td>\n",
       "      <td>2016-04-15 12:00:00</td>\n",
       "      <td>1</td>\n",
       "      <td>523</td>\n",
       "      <td>573</td>\n",
       "    </tr>\n",
       "    <tr>\n",
       "      <th>4</th>\n",
       "      <td>2026352035</td>\n",
       "      <td>2016-04-17 05:30:20</td>\n",
       "      <td>70</td>\n",
       "      <td>6</td>\n",
       "      <td>2016-04-16 12:00:00</td>\n",
       "      <td>1</td>\n",
       "      <td>524</td>\n",
       "      <td>567</td>\n",
       "    </tr>\n",
       "    <tr>\n",
       "      <th>...</th>\n",
       "      <td>...</td>\n",
       "      <td>...</td>\n",
       "      <td>...</td>\n",
       "      <td>...</td>\n",
       "      <td>...</td>\n",
       "      <td>...</td>\n",
       "      <td>...</td>\n",
       "      <td>...</td>\n",
       "    </tr>\n",
       "    <tr>\n",
       "      <th>69715</th>\n",
       "      <td>2026352035</td>\n",
       "      <td>2016-05-09 19:49:45</td>\n",
       "      <td>89</td>\n",
       "      <td>0</td>\n",
       "      <td>2016-05-08 12:00:00</td>\n",
       "      <td>1</td>\n",
       "      <td>541</td>\n",
       "      <td>568</td>\n",
       "    </tr>\n",
       "    <tr>\n",
       "      <th>69716</th>\n",
       "      <td>2026352035</td>\n",
       "      <td>2016-05-09 19:49:45</td>\n",
       "      <td>89</td>\n",
       "      <td>0</td>\n",
       "      <td>2016-05-09 12:00:00</td>\n",
       "      <td>1</td>\n",
       "      <td>531</td>\n",
       "      <td>556</td>\n",
       "    </tr>\n",
       "    <tr>\n",
       "      <th>69717</th>\n",
       "      <td>2026352035</td>\n",
       "      <td>2016-05-09 19:49:45</td>\n",
       "      <td>89</td>\n",
       "      <td>0</td>\n",
       "      <td>2016-05-10 12:00:00</td>\n",
       "      <td>1</td>\n",
       "      <td>357</td>\n",
       "      <td>380</td>\n",
       "    </tr>\n",
       "    <tr>\n",
       "      <th>69718</th>\n",
       "      <td>2026352035</td>\n",
       "      <td>2016-05-09 19:49:45</td>\n",
       "      <td>89</td>\n",
       "      <td>0</td>\n",
       "      <td>2016-05-11 12:00:00</td>\n",
       "      <td>1</td>\n",
       "      <td>523</td>\n",
       "      <td>553</td>\n",
       "    </tr>\n",
       "    <tr>\n",
       "      <th>69719</th>\n",
       "      <td>2026352035</td>\n",
       "      <td>2016-05-09 19:49:45</td>\n",
       "      <td>89</td>\n",
       "      <td>0</td>\n",
       "      <td>2016-05-12 12:00:00</td>\n",
       "      <td>1</td>\n",
       "      <td>456</td>\n",
       "      <td>485</td>\n",
       "    </tr>\n",
       "  </tbody>\n",
       "</table>\n",
       "<p>69720 rows × 8 columns</p>\n",
       "</div>"
      ],
      "text/plain": [
       "               Id              Time_x  Value  Day              Time_y  \\\n",
       "0      2026352035 2016-04-17 05:30:20     70    6 2016-04-12 12:00:00   \n",
       "1      2026352035 2016-04-17 05:30:20     70    6 2016-04-13 12:00:00   \n",
       "2      2026352035 2016-04-17 05:30:20     70    6 2016-04-14 12:00:00   \n",
       "3      2026352035 2016-04-17 05:30:20     70    6 2016-04-15 12:00:00   \n",
       "4      2026352035 2016-04-17 05:30:20     70    6 2016-04-16 12:00:00   \n",
       "...           ...                 ...    ...  ...                 ...   \n",
       "69715  2026352035 2016-05-09 19:49:45     89    0 2016-05-08 12:00:00   \n",
       "69716  2026352035 2016-05-09 19:49:45     89    0 2016-05-09 12:00:00   \n",
       "69717  2026352035 2016-05-09 19:49:45     89    0 2016-05-10 12:00:00   \n",
       "69718  2026352035 2016-05-09 19:49:45     89    0 2016-05-11 12:00:00   \n",
       "69719  2026352035 2016-05-09 19:49:45     89    0 2016-05-12 12:00:00   \n",
       "\n",
       "       TotalSleepRecords  TotalMinutesAsleep  TotalTimeInBed  \n",
       "0                      1                 503             546  \n",
       "1                      1                 531             565  \n",
       "2                      1                 545             568  \n",
       "3                      1                 523             573  \n",
       "4                      1                 524             567  \n",
       "...                  ...                 ...             ...  \n",
       "69715                  1                 541             568  \n",
       "69716                  1                 531             556  \n",
       "69717                  1                 357             380  \n",
       "69718                  1                 523             553  \n",
       "69719                  1                 456             485  \n",
       "\n",
       "[69720 rows x 8 columns]"
      ]
     },
     "execution_count": 21,
     "metadata": {},
     "output_type": "execute_result"
    }
   ],
   "source": [
    "df1.merge(sleep1, on = 'Id', how = 'left')"
   ]
  },
  {
   "cell_type": "code",
   "execution_count": 24,
   "metadata": {},
   "outputs": [],
   "source": [
    "df1 = df1.set_index('Time') "
   ]
  },
  {
   "cell_type": "code",
   "execution_count": null,
   "metadata": {},
   "outputs": [],
   "source": []
  },
  {
   "cell_type": "code",
   "execution_count": 18,
   "metadata": {},
   "outputs": [],
   "source": [
    "import pandas as pd\n",
    "import seaborn as sns"
   ]
  },
  {
   "cell_type": "code",
   "execution_count": 6,
   "metadata": {},
   "outputs": [],
   "source": [
    "heartrate_seconds = pd.read_csv('C:/AMEYA/UW/Academics/DATA 515/Project/FitMe/database/heartrate_seconds_merged.csv')"
   ]
  },
  {
   "cell_type": "code",
   "execution_count": 7,
   "metadata": {},
   "outputs": [
    {
     "data": {
      "text/html": [
       "<div>\n",
       "<style scoped>\n",
       "    .dataframe tbody tr th:only-of-type {\n",
       "        vertical-align: middle;\n",
       "    }\n",
       "\n",
       "    .dataframe tbody tr th {\n",
       "        vertical-align: top;\n",
       "    }\n",
       "\n",
       "    .dataframe thead th {\n",
       "        text-align: right;\n",
       "    }\n",
       "</style>\n",
       "<table border=\"1\" class=\"dataframe\">\n",
       "  <thead>\n",
       "    <tr style=\"text-align: right;\">\n",
       "      <th></th>\n",
       "      <th>Id</th>\n",
       "      <th>Time</th>\n",
       "      <th>Value</th>\n",
       "    </tr>\n",
       "  </thead>\n",
       "  <tbody>\n",
       "    <tr>\n",
       "      <th>0</th>\n",
       "      <td>2022484408</td>\n",
       "      <td>4/12/2016 7:21:00 AM</td>\n",
       "      <td>97</td>\n",
       "    </tr>\n",
       "    <tr>\n",
       "      <th>1</th>\n",
       "      <td>2022484408</td>\n",
       "      <td>4/12/2016 7:21:05 AM</td>\n",
       "      <td>102</td>\n",
       "    </tr>\n",
       "  </tbody>\n",
       "</table>\n",
       "</div>"
      ],
      "text/plain": [
       "           Id                  Time  Value\n",
       "0  2022484408  4/12/2016 7:21:00 AM     97\n",
       "1  2022484408  4/12/2016 7:21:05 AM    102"
      ]
     },
     "execution_count": 7,
     "metadata": {},
     "output_type": "execute_result"
    }
   ],
   "source": [
    "heartrate_seconds.head(2)"
   ]
  },
  {
   "cell_type": "code",
   "execution_count": 8,
   "metadata": {},
   "outputs": [],
   "source": [
    "heartrate_seconds['date_time'] = pd.to_datetime(heartrate_seconds['Time'], format = \"%m/%d/%Y %I:%M:%S %p\")"
   ]
  },
  {
   "cell_type": "code",
   "execution_count": 9,
   "metadata": {},
   "outputs": [],
   "source": [
    "heartrate_minute = heartrate_seconds.groupby('Id').resample('1min', on = 'date_time', origin = '2016-04-12 07:21:00').Value.mean().reset_index()"
   ]
  },
  {
   "cell_type": "code",
   "execution_count": 50,
   "metadata": {},
   "outputs": [],
   "source": [
    "heartrate_daily = heartrate_seconds.groupby('Id').resample('1D', on = 'date_time', origin = '2016-04-12 07:21:00').Value.mean().reset_index()"
   ]
  },
  {
   "cell_type": "code",
   "execution_count": 53,
   "metadata": {},
   "outputs": [
    {
     "data": {
      "text/html": [
       "<div>\n",
       "<style scoped>\n",
       "    .dataframe tbody tr th:only-of-type {\n",
       "        vertical-align: middle;\n",
       "    }\n",
       "\n",
       "    .dataframe tbody tr th {\n",
       "        vertical-align: top;\n",
       "    }\n",
       "\n",
       "    .dataframe thead th {\n",
       "        text-align: right;\n",
       "    }\n",
       "</style>\n",
       "<table border=\"1\" class=\"dataframe\">\n",
       "  <thead>\n",
       "    <tr style=\"text-align: right;\">\n",
       "      <th></th>\n",
       "      <th>Id</th>\n",
       "      <th>date_time</th>\n",
       "      <th>Value</th>\n",
       "    </tr>\n",
       "  </thead>\n",
       "  <tbody>\n",
       "    <tr>\n",
       "      <th>0</th>\n",
       "      <td>2022484408</td>\n",
       "      <td>2016-04-12 07:21:00</td>\n",
       "      <td>75.457695</td>\n",
       "    </tr>\n",
       "    <tr>\n",
       "      <th>1</th>\n",
       "      <td>2022484408</td>\n",
       "      <td>2016-04-13 07:21:00</td>\n",
       "      <td>80.779593</td>\n",
       "    </tr>\n",
       "  </tbody>\n",
       "</table>\n",
       "</div>"
      ],
      "text/plain": [
       "           Id           date_time      Value\n",
       "0  2022484408 2016-04-12 07:21:00  75.457695\n",
       "1  2022484408 2016-04-13 07:21:00  80.779593"
      ]
     },
     "execution_count": 53,
     "metadata": {},
     "output_type": "execute_result"
    }
   ],
   "source": [
    "heartrate_daily.head(2)"
   ]
  },
  {
   "cell_type": "code",
   "execution_count": 54,
   "metadata": {},
   "outputs": [],
   "source": [
    "heartrate_daily['date_time'] = pd.to_datetime(heartrate_daily['date_time'], format = \"%m/%d/%Y %I:%M:%S %p\")"
   ]
  },
  {
   "cell_type": "code",
   "execution_count": 20,
   "metadata": {},
   "outputs": [],
   "source": [
    "df = heartrate_minute[:1000]"
   ]
  },
  {
   "cell_type": "code",
   "execution_count": 21,
   "metadata": {},
   "outputs": [
    {
     "data": {
      "text/plain": [
       "<AxesSubplot:xlabel='date_time', ylabel='Value'>"
      ]
     },
     "execution_count": 21,
     "metadata": {},
     "output_type": "execute_result"
    },
    {
     "data": {
      "image/png": "[encoded data removed]",
      "text/plain": [
       "<Figure size 640x480 with 1 Axes>"
      ]
     },
     "metadata": {},
     "output_type": "display_data"
    }
   ],
   "source": [
    "sns.lineplot(x = df['date_time'], y = df['Value'])"
   ]
  },
  {
   "cell_type": "code",
   "execution_count": 22,
   "metadata": {},
   "outputs": [],
   "source": [
    "minute_steps = pd.read_csv('C:/AMEYA/UW/Academics/DATA 515/Project/FitMe/database/minuteStepsNarrow_merged.csv')\n",
    "minute_mets = pd.read_csv('C:/AMEYA/UW/Academics/DATA 515/Project/FitMe/database/minuteMETsNarrow_merged.csv')\n",
    "minute_calories = pd.read_csv('C:/AMEYA/UW/Academics/DATA 515/Project/FitMe/database/minuteCaloriesNarrow_merged.csv')"
   ]
  },
  {
   "cell_type": "code",
   "execution_count": 23,
   "metadata": {},
   "outputs": [],
   "source": [
    "# retype to datetime instead of object\n",
    "minute_steps['date_time'] = pd.to_datetime(minute_steps['ActivityMinute'], format = '%m/%d/%Y %I:%M:%S %p')\n",
    "minute_mets['date_time'] = pd.to_datetime(minute_mets['ActivityMinute'], format = '%m/%d/%Y %I:%M:%S %p')\n",
    "minute_calories['date_time'] = pd.to_datetime(minute_calories['ActivityMinute'], format = '%m/%d/%Y %I:%M:%S %p')"
   ]
  },
  {
   "cell_type": "code",
   "execution_count": 28,
   "metadata": {},
   "outputs": [],
   "source": [
    "# merge the minute tables together\n",
    "minute_values = heartrate_minute.merge(minute_steps, how = 'left', on = ['Id', 'date_time'])\n",
    "minute_values = minute_values.merge(minute_mets, how = 'left', on = ['Id', 'date_time'])\n",
    "minute_values = minute_values.merge(minute_calories, how = 'left', on = ['Id', 'date_time'])"
   ]
  },
  {
   "cell_type": "code",
   "execution_count": 25,
   "metadata": {},
   "outputs": [
    {
     "data": {
      "text/html": [
       "<div>\n",
       "<style scoped>\n",
       "    .dataframe tbody tr th:only-of-type {\n",
       "        vertical-align: middle;\n",
       "    }\n",
       "\n",
       "    .dataframe tbody tr th {\n",
       "        vertical-align: top;\n",
       "    }\n",
       "\n",
       "    .dataframe thead th {\n",
       "        text-align: right;\n",
       "    }\n",
       "</style>\n",
       "<table border=\"1\" class=\"dataframe\">\n",
       "  <thead>\n",
       "    <tr style=\"text-align: right;\">\n",
       "      <th></th>\n",
       "      <th>Id</th>\n",
       "      <th>date_time</th>\n",
       "      <th>Value</th>\n",
       "      <th>ActivityMinute_x</th>\n",
       "      <th>Steps</th>\n",
       "      <th>ActivityMinute_y</th>\n",
       "      <th>METs</th>\n",
       "      <th>ActivityMinute</th>\n",
       "      <th>Calories</th>\n",
       "    </tr>\n",
       "  </thead>\n",
       "  <tbody>\n",
       "    <tr>\n",
       "      <th>0</th>\n",
       "      <td>2022484408</td>\n",
       "      <td>2016-04-12 07:21:00</td>\n",
       "      <td>101.600000</td>\n",
       "      <td>4/12/2016 7:21:00 AM</td>\n",
       "      <td>17.0</td>\n",
       "      <td>4/12/2016 7:21:00 AM</td>\n",
       "      <td>32.0</td>\n",
       "      <td>4/12/2016 7:21:00 AM</td>\n",
       "      <td>3.32064</td>\n",
       "    </tr>\n",
       "    <tr>\n",
       "      <th>1</th>\n",
       "      <td>2022484408</td>\n",
       "      <td>2016-04-12 07:22:00</td>\n",
       "      <td>87.888889</td>\n",
       "      <td>4/12/2016 7:22:00 AM</td>\n",
       "      <td>9.0</td>\n",
       "      <td>4/12/2016 7:22:00 AM</td>\n",
       "      <td>38.0</td>\n",
       "      <td>4/12/2016 7:22:00 AM</td>\n",
       "      <td>3.94326</td>\n",
       "    </tr>\n",
       "    <tr>\n",
       "      <th>2</th>\n",
       "      <td>2022484408</td>\n",
       "      <td>2016-04-12 07:23:00</td>\n",
       "      <td>58.000000</td>\n",
       "      <td>4/12/2016 7:23:00 AM</td>\n",
       "      <td>0.0</td>\n",
       "      <td>4/12/2016 7:23:00 AM</td>\n",
       "      <td>13.0</td>\n",
       "      <td>4/12/2016 7:23:00 AM</td>\n",
       "      <td>1.34901</td>\n",
       "    </tr>\n",
       "    <tr>\n",
       "      <th>3</th>\n",
       "      <td>2022484408</td>\n",
       "      <td>2016-04-12 07:24:00</td>\n",
       "      <td>58.000000</td>\n",
       "      <td>4/12/2016 7:24:00 AM</td>\n",
       "      <td>0.0</td>\n",
       "      <td>4/12/2016 7:24:00 AM</td>\n",
       "      <td>10.0</td>\n",
       "      <td>4/12/2016 7:24:00 AM</td>\n",
       "      <td>1.03770</td>\n",
       "    </tr>\n",
       "    <tr>\n",
       "      <th>4</th>\n",
       "      <td>2022484408</td>\n",
       "      <td>2016-04-12 07:25:00</td>\n",
       "      <td>56.777778</td>\n",
       "      <td>4/12/2016 7:25:00 AM</td>\n",
       "      <td>0.0</td>\n",
       "      <td>4/12/2016 7:25:00 AM</td>\n",
       "      <td>10.0</td>\n",
       "      <td>4/12/2016 7:25:00 AM</td>\n",
       "      <td>1.03770</td>\n",
       "    </tr>\n",
       "    <tr>\n",
       "      <th>...</th>\n",
       "      <td>...</td>\n",
       "      <td>...</td>\n",
       "      <td>...</td>\n",
       "      <td>...</td>\n",
       "      <td>...</td>\n",
       "      <td>...</td>\n",
       "      <td>...</td>\n",
       "      <td>...</td>\n",
       "      <td>...</td>\n",
       "    </tr>\n",
       "    <tr>\n",
       "      <th>542344</th>\n",
       "      <td>8877689391</td>\n",
       "      <td>2016-05-12 14:40:00</td>\n",
       "      <td>56.222222</td>\n",
       "      <td>NaN</td>\n",
       "      <td>NaN</td>\n",
       "      <td>NaN</td>\n",
       "      <td>NaN</td>\n",
       "      <td>NaN</td>\n",
       "      <td>NaN</td>\n",
       "    </tr>\n",
       "    <tr>\n",
       "      <th>542345</th>\n",
       "      <td>8877689391</td>\n",
       "      <td>2016-05-12 14:41:00</td>\n",
       "      <td>57.857143</td>\n",
       "      <td>NaN</td>\n",
       "      <td>NaN</td>\n",
       "      <td>NaN</td>\n",
       "      <td>NaN</td>\n",
       "      <td>NaN</td>\n",
       "      <td>NaN</td>\n",
       "    </tr>\n",
       "    <tr>\n",
       "      <th>542346</th>\n",
       "      <td>8877689391</td>\n",
       "      <td>2016-05-12 14:42:00</td>\n",
       "      <td>56.000000</td>\n",
       "      <td>NaN</td>\n",
       "      <td>NaN</td>\n",
       "      <td>NaN</td>\n",
       "      <td>NaN</td>\n",
       "      <td>NaN</td>\n",
       "      <td>NaN</td>\n",
       "    </tr>\n",
       "    <tr>\n",
       "      <th>542347</th>\n",
       "      <td>8877689391</td>\n",
       "      <td>2016-05-12 14:43:00</td>\n",
       "      <td>57.500000</td>\n",
       "      <td>NaN</td>\n",
       "      <td>NaN</td>\n",
       "      <td>NaN</td>\n",
       "      <td>NaN</td>\n",
       "      <td>NaN</td>\n",
       "      <td>NaN</td>\n",
       "    </tr>\n",
       "    <tr>\n",
       "      <th>542348</th>\n",
       "      <td>8877689391</td>\n",
       "      <td>2016-05-12 14:44:00</td>\n",
       "      <td>55.333333</td>\n",
       "      <td>NaN</td>\n",
       "      <td>NaN</td>\n",
       "      <td>NaN</td>\n",
       "      <td>NaN</td>\n",
       "      <td>NaN</td>\n",
       "      <td>NaN</td>\n",
       "    </tr>\n",
       "  </tbody>\n",
       "</table>\n",
       "<p>542349 rows × 9 columns</p>\n",
       "</div>"
      ],
      "text/plain": [
       "                Id           date_time       Value      ActivityMinute_x  \\\n",
       "0       2022484408 2016-04-12 07:21:00  101.600000  4/12/2016 7:21:00 AM   \n",
       "1       2022484408 2016-04-12 07:22:00   87.888889  4/12/2016 7:22:00 AM   \n",
       "2       2022484408 2016-04-12 07:23:00   58.000000  4/12/2016 7:23:00 AM   \n",
       "3       2022484408 2016-04-12 07:24:00   58.000000  4/12/2016 7:24:00 AM   \n",
       "4       2022484408 2016-04-12 07:25:00   56.777778  4/12/2016 7:25:00 AM   \n",
       "...            ...                 ...         ...                   ...   \n",
       "542344  8877689391 2016-05-12 14:40:00   56.222222                   NaN   \n",
       "542345  8877689391 2016-05-12 14:41:00   57.857143                   NaN   \n",
       "542346  8877689391 2016-05-12 14:42:00   56.000000                   NaN   \n",
       "542347  8877689391 2016-05-12 14:43:00   57.500000                   NaN   \n",
       "542348  8877689391 2016-05-12 14:44:00   55.333333                   NaN   \n",
       "\n",
       "        Steps      ActivityMinute_y  METs        ActivityMinute  Calories  \n",
       "0        17.0  4/12/2016 7:21:00 AM  32.0  4/12/2016 7:21:00 AM   3.32064  \n",
       "1         9.0  4/12/2016 7:22:00 AM  38.0  4/12/2016 7:22:00 AM   3.94326  \n",
       "2         0.0  4/12/2016 7:23:00 AM  13.0  4/12/2016 7:23:00 AM   1.34901  \n",
       "3         0.0  4/12/2016 7:24:00 AM  10.0  4/12/2016 7:24:00 AM   1.03770  \n",
       "4         0.0  4/12/2016 7:25:00 AM  10.0  4/12/2016 7:25:00 AM   1.03770  \n",
       "...       ...                   ...   ...                   ...       ...  \n",
       "542344    NaN                   NaN   NaN                   NaN       NaN  \n",
       "542345    NaN                   NaN   NaN                   NaN       NaN  \n",
       "542346    NaN                   NaN   NaN                   NaN       NaN  \n",
       "542347    NaN                   NaN   NaN                   NaN       NaN  \n",
       "542348    NaN                   NaN   NaN                   NaN       NaN  \n",
       "\n",
       "[542349 rows x 9 columns]"
      ]
     },
     "execution_count": 25,
     "metadata": {},
     "output_type": "execute_result"
    }
   ],
   "source": [
    "minute_values"
   ]
  },
  {
   "cell_type": "code",
   "execution_count": null,
   "metadata": {},
   "outputs": [],
   "source": []
  },
  {
   "cell_type": "code",
   "execution_count": 55,
   "metadata": {},
   "outputs": [],
   "source": [
    "daily_steps = pd.read_csv('C:/AMEYA/UW/Academics/DATA 515/Project/FitMe/database/dailySteps_merged.csv')\n",
    "daily_calories = pd.read_csv('C:/AMEYA/UW/Academics/DATA 515/Project/FitMe/database/dailyCalories_merged.csv')\n",
    "daily_intensities = pd.read_csv('C:/AMEYA/UW/Academics/DATA 515/Project/FitMe/database/dailyIntensities_merged.csv')\n",
    "daily_activity = pd.read_csv('C:/AMEYA/UW/Academics/DATA 515/Project/FitMe/database/dailyActivity_merged.csv')\n",
    "daily_sleep = pd.read_csv('C:/AMEYA/UW/Academics/DATA 515/Project/FitMe/database/sleepDay_merged.csv')"
   ]
  },
  {
   "cell_type": "code",
   "execution_count": 56,
   "metadata": {},
   "outputs": [],
   "source": [
    "# retype to datetime instead of object\n",
    "daily_steps['date_time'] = pd.to_datetime(daily_steps['ActivityDay'], format = '%m/%d/%Y')\n",
    "daily_calories['date_time'] = pd.to_datetime(daily_calories['ActivityDay'], format = '%m/%d/%Y')\n",
    "daily_intensities['date_time'] = pd.to_datetime(daily_intensities['ActivityDay'], format = '%m/%d/%Y')\n",
    "daily_activity['date_time'] = pd.to_datetime(daily_activity['ActivityDate'], format = '%m/%d/%Y')\n",
    "daily_sleep['date_time'] = pd.to_datetime(daily_sleep['SleepDay'], format = '%m/%d/%Y %I:%M:%S %p')"
   ]
  },
  {
   "cell_type": "code",
   "execution_count": 58,
   "metadata": {},
   "outputs": [],
   "source": [
    "heartrate_daily['date_time'] = heartrate_daily['date_time'].dt.date"
   ]
  },
  {
   "cell_type": "code",
   "execution_count": 64,
   "metadata": {},
   "outputs": [],
   "source": [
    "heartrate_daily['date_time'] = pd.to_datetime(heartrate_daily['date_time'], format = \"%Y/%m/%d\")"
   ]
  },
  {
   "cell_type": "code",
   "execution_count": 67,
   "metadata": {},
   "outputs": [],
   "source": [
    "# merge the daily tables together\n",
    "daily_values = heartrate_daily.merge(daily_steps, how = 'left', on = ['Id', 'date_time'])"
   ]
  },
  {
   "cell_type": "code",
   "execution_count": 79,
   "metadata": {},
   "outputs": [],
   "source": [
    "daily_values = daily_values.merge(daily_calories, how = 'left', on = ['Id', 'date_time'])"
   ]
  },
  {
   "cell_type": "code",
   "execution_count": 71,
   "metadata": {},
   "outputs": [],
   "source": [
    "daily_values = daily_values.merge(daily_intensities, how = 'left', on = ['Id', 'date_time'])"
   ]
  },
  {
   "cell_type": "code",
   "execution_count": 73,
   "metadata": {},
   "outputs": [],
   "source": [
    "daily_values = daily_values.merge(daily_activity, how = 'left', on = ['Id', 'date_time'])"
   ]
  },
  {
   "cell_type": "code",
   "execution_count": 76,
   "metadata": {},
   "outputs": [],
   "source": [
    "daily_values = daily_values.merge(daily_sleep, how = 'left', on = ['Id', 'date_time'])"
   ]
  },
  {
   "cell_type": "code",
   "execution_count": 78,
   "metadata": {},
   "outputs": [],
   "source": [
    "daily_values.to_csv('daily_values.csv')"
   ]
  }
 ],
 "metadata": {
  "kernelspec": {
   "display_name": "base",
   "language": "python",
   "name": "python3"
  },
  "language_info": {
   "codemirror_mode": {
    "name": "ipython",
    "version": 3
   },
   "file_extension": ".py",
   "mimetype": "text/x-python",
   "name": "python",
   "nbconvert_exporter": "python",
   "pygments_lexer": "ipython3",
   "version": "3.9.13"
  },
  "orig_nbformat": 4,
  "vscode": {
   "interpreter": {
    "hash": "6a609218493ebbacab161b34ca76c2892d4465d17019c6fb4f377dc381b3dad6"
   }
  }
 },
 "nbformat": 4,
 "nbformat_minor": 2
}
