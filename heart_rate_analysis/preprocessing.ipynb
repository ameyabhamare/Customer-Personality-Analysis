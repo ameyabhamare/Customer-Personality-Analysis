{
 "cells": [
  {
   "cell_type": "code",
   "execution_count": 2,
   "metadata": {},
   "outputs": [],
   "source": [
    "import pandas as pd"
   ]
  },
  {
   "cell_type": "code",
   "execution_count": null,
   "metadata": {},
   "outputs": [],
   "source": []
  },
  {
   "cell_type": "code",
   "execution_count": 3,
   "metadata": {},
   "outputs": [],
   "source": [
    "heartrate_seconds = pd.read_csv('C:/AMEYA/UW/Academics/DATA 515/Project/FitMe/database/heartrate_seconds_merged.csv')"
   ]
  },
  {
   "cell_type": "code",
   "execution_count": 4,
   "metadata": {},
   "outputs": [],
   "source": [
    "heartrate_seconds['date_time'] = pd.to_datetime(heartrate_seconds['Time'], format = \"%m/%d/%Y %I:%M:%S %p\")"
   ]
  },
  {
   "cell_type": "code",
   "execution_count": null,
   "metadata": {},
   "outputs": [],
   "source": []
  },
  {
   "cell_type": "code",
   "execution_count": 5,
   "metadata": {},
   "outputs": [],
   "source": [
    "heartrate_daily = heartrate_seconds.groupby('Id').resample('1D', on = 'date_time', origin = '2016-04-12 07:21:00').Value.mean().reset_index()"
   ]
  },
  {
   "cell_type": "code",
   "execution_count": 6,
   "metadata": {},
   "outputs": [],
   "source": [
    "heartrate_daily['date_time'] = pd.to_datetime(heartrate_daily['date_time'], format = \"%m/%d/%Y %I:%M:%S %p\")"
   ]
  },
  {
   "cell_type": "code",
   "execution_count": 7,
   "metadata": {},
   "outputs": [],
   "source": [
    "heartrate_daily['date_time'] = heartrate_daily['date_time'].dt.date"
   ]
  },
  {
   "cell_type": "code",
   "execution_count": 8,
   "metadata": {},
   "outputs": [],
   "source": [
    "heartrate_daily['date_time'] = pd.to_datetime(heartrate_daily['date_time'], format = \"%Y/%m/%d\")"
   ]
  },
  {
   "cell_type": "code",
   "execution_count": null,
   "metadata": {},
   "outputs": [],
   "source": []
  },
  {
   "cell_type": "code",
   "execution_count": 15,
   "metadata": {},
   "outputs": [],
   "source": [
    "daily_steps = pd.read_csv('C:/AMEYA/UW/Academics/DATA 515/Project/FitMe/database/dailySteps_merged.csv')\n",
    "daily_steps['date_time'] = pd.to_datetime(daily_steps['ActivityDay'], format = '%m/%d/%Y')"
   ]
  },
  {
   "cell_type": "code",
   "execution_count": 16,
   "metadata": {},
   "outputs": [],
   "source": [
    "daily_calories = pd.read_csv('C:/AMEYA/UW/Academics/DATA 515/Project/FitMe/database/dailyCalories_merged.csv')\n",
    "daily_calories['date_time'] = pd.to_datetime(daily_calories['ActivityDay'], format = '%m/%d/%Y')"
   ]
  },
  {
   "cell_type": "code",
   "execution_count": 17,
   "metadata": {},
   "outputs": [],
   "source": [
    "daily_intensities = pd.read_csv('C:/AMEYA/UW/Academics/DATA 515/Project/FitMe/database/dailyIntensities_merged.csv')\n",
    "daily_intensities['date_time'] = pd.to_datetime(daily_intensities['ActivityDay'], format = '%m/%d/%Y')"
   ]
  },
  {
   "cell_type": "code",
   "execution_count": 18,
   "metadata": {},
   "outputs": [],
   "source": [
    "daily_activity = pd.read_csv('C:/AMEYA/UW/Academics/DATA 515/Project/FitMe/database/dailyActivity_merged.csv')\n",
    "daily_activity['date_time'] = pd.to_datetime(daily_activity['ActivityDate'], format = '%m/%d/%Y')"
   ]
  },
  {
   "cell_type": "code",
   "execution_count": 19,
   "metadata": {},
   "outputs": [],
   "source": [
    "daily_sleep = pd.read_csv('C:/AMEYA/UW/Academics/DATA 515/Project/FitMe/database/sleepDay_merged.csv')\n",
    "daily_sleep['date_time'] = pd.to_datetime(daily_sleep['SleepDay'], format = '%m/%d/%Y %I:%M:%S %p')"
   ]
  },
  {
   "cell_type": "code",
   "execution_count": null,
   "metadata": {},
   "outputs": [],
   "source": []
  },
  {
   "cell_type": "code",
   "execution_count": 20,
   "metadata": {},
   "outputs": [],
   "source": [
    "daily_values = heartrate_daily.merge(daily_steps, how = 'left', on = ['Id', 'date_time'])"
   ]
  },
  {
   "cell_type": "code",
   "execution_count": 21,
   "metadata": {},
   "outputs": [],
   "source": [
    "daily_values = daily_values.merge(daily_calories, how = 'left', on = ['Id', 'date_time'])"
   ]
  },
  {
   "cell_type": "code",
   "execution_count": 22,
   "metadata": {},
   "outputs": [],
   "source": [
    "daily_values = daily_values.merge(daily_intensities, how = 'left', on = ['Id', 'date_time'])"
   ]
  },
  {
   "cell_type": "code",
   "execution_count": 23,
   "metadata": {},
   "outputs": [],
   "source": [
    "daily_values = daily_values.merge(daily_activity, how = 'left', on = ['Id', 'date_time'])"
   ]
  },
  {
   "cell_type": "code",
   "execution_count": 24,
   "metadata": {},
   "outputs": [],
   "source": [
    "daily_values = daily_values.merge(daily_sleep, how = 'left', on = ['Id', 'date_time'])"
   ]
  },
  {
   "cell_type": "code",
   "execution_count": null,
   "metadata": {},
   "outputs": [],
   "source": []
  },
  {
   "cell_type": "code",
   "execution_count": 25,
   "metadata": {},
   "outputs": [
    {
     "data": {
      "text/html": [
       "<div>\n",
       "<style scoped>\n",
       "    .dataframe tbody tr th:only-of-type {\n",
       "        vertical-align: middle;\n",
       "    }\n",
       "\n",
       "    .dataframe tbody tr th {\n",
       "        vertical-align: top;\n",
       "    }\n",
       "\n",
       "    .dataframe thead th {\n",
       "        text-align: right;\n",
       "    }\n",
       "</style>\n",
       "<table border=\"1\" class=\"dataframe\">\n",
       "  <thead>\n",
       "    <tr style=\"text-align: right;\">\n",
       "      <th></th>\n",
       "      <th>Id</th>\n",
       "      <th>date_time</th>\n",
       "      <th>Value</th>\n",
       "      <th>ActivityDay_x</th>\n",
       "      <th>StepTotal</th>\n",
       "      <th>ActivityDay_y</th>\n",
       "      <th>Calories_x</th>\n",
       "      <th>ActivityDay</th>\n",
       "      <th>SedentaryMinutes_x</th>\n",
       "      <th>LightlyActiveMinutes_x</th>\n",
       "      <th>...</th>\n",
       "      <th>SedentaryActiveDistance_y</th>\n",
       "      <th>VeryActiveMinutes_y</th>\n",
       "      <th>FairlyActiveMinutes_y</th>\n",
       "      <th>LightlyActiveMinutes_y</th>\n",
       "      <th>SedentaryMinutes_y</th>\n",
       "      <th>Calories_y</th>\n",
       "      <th>SleepDay</th>\n",
       "      <th>TotalSleepRecords</th>\n",
       "      <th>TotalMinutesAsleep</th>\n",
       "      <th>TotalTimeInBed</th>\n",
       "    </tr>\n",
       "  </thead>\n",
       "  <tbody>\n",
       "    <tr>\n",
       "      <th>0</th>\n",
       "      <td>2022484408</td>\n",
       "      <td>2016-04-12</td>\n",
       "      <td>75.457695</td>\n",
       "      <td>4/12/2016</td>\n",
       "      <td>11875.0</td>\n",
       "      <td>4/12/2016</td>\n",
       "      <td>2390.0</td>\n",
       "      <td>4/12/2016</td>\n",
       "      <td>1157.0</td>\n",
       "      <td>227.0</td>\n",
       "      <td>...</td>\n",
       "      <td>0.0</td>\n",
       "      <td>42.0</td>\n",
       "      <td>14.0</td>\n",
       "      <td>227.0</td>\n",
       "      <td>1157.0</td>\n",
       "      <td>2390.0</td>\n",
       "      <td>NaN</td>\n",
       "      <td>NaN</td>\n",
       "      <td>NaN</td>\n",
       "      <td>NaN</td>\n",
       "    </tr>\n",
       "    <tr>\n",
       "      <th>1</th>\n",
       "      <td>2022484408</td>\n",
       "      <td>2016-04-13</td>\n",
       "      <td>80.779593</td>\n",
       "      <td>4/13/2016</td>\n",
       "      <td>12024.0</td>\n",
       "      <td>4/13/2016</td>\n",
       "      <td>2601.0</td>\n",
       "      <td>4/13/2016</td>\n",
       "      <td>1100.0</td>\n",
       "      <td>292.0</td>\n",
       "      <td>...</td>\n",
       "      <td>0.0</td>\n",
       "      <td>43.0</td>\n",
       "      <td>5.0</td>\n",
       "      <td>292.0</td>\n",
       "      <td>1100.0</td>\n",
       "      <td>2601.0</td>\n",
       "      <td>NaN</td>\n",
       "      <td>NaN</td>\n",
       "      <td>NaN</td>\n",
       "      <td>NaN</td>\n",
       "    </tr>\n",
       "    <tr>\n",
       "      <th>2</th>\n",
       "      <td>2022484408</td>\n",
       "      <td>2016-04-14</td>\n",
       "      <td>72.628597</td>\n",
       "      <td>4/14/2016</td>\n",
       "      <td>10690.0</td>\n",
       "      <td>4/14/2016</td>\n",
       "      <td>2312.0</td>\n",
       "      <td>4/14/2016</td>\n",
       "      <td>1148.0</td>\n",
       "      <td>257.0</td>\n",
       "      <td>...</td>\n",
       "      <td>0.0</td>\n",
       "      <td>32.0</td>\n",
       "      <td>3.0</td>\n",
       "      <td>257.0</td>\n",
       "      <td>1148.0</td>\n",
       "      <td>2312.0</td>\n",
       "      <td>NaN</td>\n",
       "      <td>NaN</td>\n",
       "      <td>NaN</td>\n",
       "      <td>NaN</td>\n",
       "    </tr>\n",
       "    <tr>\n",
       "      <th>3</th>\n",
       "      <td>2022484408</td>\n",
       "      <td>2016-04-15</td>\n",
       "      <td>80.437382</td>\n",
       "      <td>4/15/2016</td>\n",
       "      <td>11034.0</td>\n",
       "      <td>4/15/2016</td>\n",
       "      <td>2525.0</td>\n",
       "      <td>4/15/2016</td>\n",
       "      <td>1122.0</td>\n",
       "      <td>282.0</td>\n",
       "      <td>...</td>\n",
       "      <td>0.0</td>\n",
       "      <td>27.0</td>\n",
       "      <td>9.0</td>\n",
       "      <td>282.0</td>\n",
       "      <td>1122.0</td>\n",
       "      <td>2525.0</td>\n",
       "      <td>NaN</td>\n",
       "      <td>NaN</td>\n",
       "      <td>NaN</td>\n",
       "      <td>NaN</td>\n",
       "    </tr>\n",
       "    <tr>\n",
       "      <th>4</th>\n",
       "      <td>2022484408</td>\n",
       "      <td>2016-04-16</td>\n",
       "      <td>75.960547</td>\n",
       "      <td>4/16/2016</td>\n",
       "      <td>10100.0</td>\n",
       "      <td>4/16/2016</td>\n",
       "      <td>2177.0</td>\n",
       "      <td>4/16/2016</td>\n",
       "      <td>1237.0</td>\n",
       "      <td>151.0</td>\n",
       "      <td>...</td>\n",
       "      <td>0.0</td>\n",
       "      <td>41.0</td>\n",
       "      <td>11.0</td>\n",
       "      <td>151.0</td>\n",
       "      <td>1237.0</td>\n",
       "      <td>2177.0</td>\n",
       "      <td>NaN</td>\n",
       "      <td>NaN</td>\n",
       "      <td>NaN</td>\n",
       "      <td>NaN</td>\n",
       "    </tr>\n",
       "  </tbody>\n",
       "</table>\n",
       "<p>5 rows × 34 columns</p>\n",
       "</div>"
      ],
      "text/plain": [
       "           Id  date_time      Value ActivityDay_x  StepTotal ActivityDay_y  \\\n",
       "0  2022484408 2016-04-12  75.457695     4/12/2016    11875.0     4/12/2016   \n",
       "1  2022484408 2016-04-13  80.779593     4/13/2016    12024.0     4/13/2016   \n",
       "2  2022484408 2016-04-14  72.628597     4/14/2016    10690.0     4/14/2016   \n",
       "3  2022484408 2016-04-15  80.437382     4/15/2016    11034.0     4/15/2016   \n",
       "4  2022484408 2016-04-16  75.960547     4/16/2016    10100.0     4/16/2016   \n",
       "\n",
       "   Calories_x ActivityDay  SedentaryMinutes_x  LightlyActiveMinutes_x  ...  \\\n",
       "0      2390.0   4/12/2016              1157.0                   227.0  ...   \n",
       "1      2601.0   4/13/2016              1100.0                   292.0  ...   \n",
       "2      2312.0   4/14/2016              1148.0                   257.0  ...   \n",
       "3      2525.0   4/15/2016              1122.0                   282.0  ...   \n",
       "4      2177.0   4/16/2016              1237.0                   151.0  ...   \n",
       "\n",
       "   SedentaryActiveDistance_y  VeryActiveMinutes_y  FairlyActiveMinutes_y  \\\n",
       "0                        0.0                 42.0                   14.0   \n",
       "1                        0.0                 43.0                    5.0   \n",
       "2                        0.0                 32.0                    3.0   \n",
       "3                        0.0                 27.0                    9.0   \n",
       "4                        0.0                 41.0                   11.0   \n",
       "\n",
       "   LightlyActiveMinutes_y  SedentaryMinutes_y  Calories_y SleepDay  \\\n",
       "0                   227.0              1157.0      2390.0      NaN   \n",
       "1                   292.0              1100.0      2601.0      NaN   \n",
       "2                   257.0              1148.0      2312.0      NaN   \n",
       "3                   282.0              1122.0      2525.0      NaN   \n",
       "4                   151.0              1237.0      2177.0      NaN   \n",
       "\n",
       "   TotalSleepRecords  TotalMinutesAsleep  TotalTimeInBed  \n",
       "0                NaN                 NaN             NaN  \n",
       "1                NaN                 NaN             NaN  \n",
       "2                NaN                 NaN             NaN  \n",
       "3                NaN                 NaN             NaN  \n",
       "4                NaN                 NaN             NaN  \n",
       "\n",
       "[5 rows x 34 columns]"
      ]
     },
     "execution_count": 25,
     "metadata": {},
     "output_type": "execute_result"
    }
   ],
   "source": [
    "daily_values.head()"
   ]
  },
  {
   "cell_type": "code",
   "execution_count": null,
   "metadata": {},
   "outputs": [],
   "source": []
  },
  {
   "cell_type": "code",
   "execution_count": 26,
   "metadata": {},
   "outputs": [],
   "source": [
    "daily_values.to_csv('C:/AMEYA/UW/Academics/DATA 515/Project/FitMe/heart_rate_analysis/data/daily_values.csv')"
   ]
  }
 ],
 "metadata": {
  "kernelspec": {
   "display_name": "base",
   "language": "python",
   "name": "python3"
  },
  "language_info": {
   "codemirror_mode": {
    "name": "ipython",
    "version": 3
   },
   "file_extension": ".py",
   "mimetype": "text/x-python",
   "name": "python",
   "nbconvert_exporter": "python",
   "pygments_lexer": "ipython3",
   "version": "3.9.13"
  },
  "orig_nbformat": 4,
  "vscode": {
   "interpreter": {
    "hash": "6a609218493ebbacab161b34ca76c2892d4465d17019c6fb4f377dc381b3dad6"
   }
  }
 },
 "nbformat": 4,
 "nbformat_minor": 2
}
